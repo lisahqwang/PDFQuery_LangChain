{
 "cells": [
  {
   "cell_type": "markdown",
   "metadata": {},
   "source": [
    "# Querying PDF With LangChain"
   ]
  },
  {
   "cell_type": "markdown",
   "metadata": {},
   "source": [
    "#### Pre-requisites:\n",
    "\n",
    "Request an OpenAI key if haven't already at: [OpenAI API Key](https://cassio.org/start_here/#llm-access) \n",
    "\n",
    "#### Next:\n",
    "- Setup: import dependencies such as langchain_community, langchain-openai, and langchain_openai"
   ]
  },
  {
   "cell_type": "code",
   "execution_count": 30,
   "metadata": {},
   "outputs": [
    {
     "name": "stderr",
     "output_type": "stream",
     "text": [
      "\n",
      "[notice] A new release of pip is available: 24.2 -> 24.3.1\n",
      "[notice] To update, run: python.exe -m pip install --upgrade pip\n",
      "\n",
      "[notice] A new release of pip is available: 24.2 -> 24.3.1\n",
      "[notice] To update, run: python.exe -m pip install --upgrade pip\n"
     ]
    },
    {
     "name": "stdout",
     "output_type": "stream",
     "text": [
      "Defaulting to user installation because normal site-packages is not writeable\n",
      "Requirement already satisfied: langchain_openai in c:\\users\\wangs\\appdata\\roaming\\python\\python312\\site-packages (0.2.5)\n",
      "Requirement already satisfied: langchain-core<0.4.0,>=0.3.15 in c:\\users\\wangs\\appdata\\roaming\\python\\python312\\site-packages (from langchain_openai) (0.3.15)\n",
      "Requirement already satisfied: openai<2.0.0,>=1.52.0 in c:\\users\\wangs\\appdata\\roaming\\python\\python312\\site-packages (from langchain_openai) (1.53.0)\n",
      "Requirement already satisfied: tiktoken<1,>=0.7 in c:\\users\\wangs\\appdata\\roaming\\python\\python312\\site-packages (from langchain_openai) (0.8.0)\n",
      "Requirement already satisfied: PyYAML>=5.3 in c:\\users\\wangs\\appdata\\roaming\\python\\python312\\site-packages (from langchain-core<0.4.0,>=0.3.15->langchain_openai) (6.0.2)\n",
      "Requirement already satisfied: jsonpatch<2.0,>=1.33 in c:\\users\\wangs\\appdata\\roaming\\python\\python312\\site-packages (from langchain-core<0.4.0,>=0.3.15->langchain_openai) (1.33)\n",
      "Requirement already satisfied: langsmith<0.2.0,>=0.1.125 in c:\\users\\wangs\\appdata\\roaming\\python\\python312\\site-packages (from langchain-core<0.4.0,>=0.3.15->langchain_openai) (0.1.139)\n",
      "Requirement already satisfied: packaging<25,>=23.2 in c:\\users\\wangs\\appdata\\roaming\\python\\python312\\site-packages (from langchain-core<0.4.0,>=0.3.15->langchain_openai) (24.1)\n",
      "Requirement already satisfied: pydantic<3.0.0,>=2.7.4 in c:\\users\\wangs\\appdata\\roaming\\python\\python312\\site-packages (from langchain-core<0.4.0,>=0.3.15->langchain_openai) (2.9.2)\n",
      "Requirement already satisfied: tenacity!=8.4.0,<10.0.0,>=8.1.0 in c:\\users\\wangs\\appdata\\roaming\\python\\python312\\site-packages (from langchain-core<0.4.0,>=0.3.15->langchain_openai) (9.0.0)\n",
      "Requirement already satisfied: typing-extensions>=4.7 in c:\\users\\wangs\\appdata\\roaming\\python\\python312\\site-packages (from langchain-core<0.4.0,>=0.3.15->langchain_openai) (4.12.2)\n",
      "Requirement already satisfied: anyio<5,>=3.5.0 in c:\\users\\wangs\\appdata\\roaming\\python\\python312\\site-packages (from openai<2.0.0,>=1.52.0->langchain_openai) (4.6.2.post1)\n",
      "Requirement already satisfied: distro<2,>=1.7.0 in c:\\users\\wangs\\appdata\\roaming\\python\\python312\\site-packages (from openai<2.0.0,>=1.52.0->langchain_openai) (1.9.0)\n",
      "Requirement already satisfied: httpx<1,>=0.23.0 in c:\\users\\wangs\\appdata\\roaming\\python\\python312\\site-packages (from openai<2.0.0,>=1.52.0->langchain_openai) (0.27.2)\n",
      "Requirement already satisfied: jiter<1,>=0.4.0 in c:\\users\\wangs\\appdata\\roaming\\python\\python312\\site-packages (from openai<2.0.0,>=1.52.0->langchain_openai) (0.7.0)\n",
      "Requirement already satisfied: sniffio in c:\\users\\wangs\\appdata\\roaming\\python\\python312\\site-packages (from openai<2.0.0,>=1.52.0->langchain_openai) (1.3.1)\n",
      "Requirement already satisfied: tqdm>4 in c:\\users\\wangs\\appdata\\roaming\\python\\python312\\site-packages (from openai<2.0.0,>=1.52.0->langchain_openai) (4.66.5)\n",
      "Requirement already satisfied: regex>=2022.1.18 in c:\\users\\wangs\\appdata\\roaming\\python\\python312\\site-packages (from tiktoken<1,>=0.7->langchain_openai) (2024.9.11)\n",
      "Requirement already satisfied: requests>=2.26.0 in c:\\users\\wangs\\appdata\\roaming\\python\\python312\\site-packages (from tiktoken<1,>=0.7->langchain_openai) (2.32.3)\n",
      "Requirement already satisfied: idna>=2.8 in c:\\users\\wangs\\appdata\\roaming\\python\\python312\\site-packages (from anyio<5,>=3.5.0->openai<2.0.0,>=1.52.0->langchain_openai) (3.8)\n",
      "Requirement already satisfied: certifi in c:\\users\\wangs\\appdata\\roaming\\python\\python312\\site-packages (from httpx<1,>=0.23.0->openai<2.0.0,>=1.52.0->langchain_openai) (2024.8.30)\n",
      "Requirement already satisfied: httpcore==1.* in c:\\users\\wangs\\appdata\\roaming\\python\\python312\\site-packages (from httpx<1,>=0.23.0->openai<2.0.0,>=1.52.0->langchain_openai) (1.0.6)\n",
      "Requirement already satisfied: h11<0.15,>=0.13 in c:\\users\\wangs\\appdata\\roaming\\python\\python312\\site-packages (from httpcore==1.*->httpx<1,>=0.23.0->openai<2.0.0,>=1.52.0->langchain_openai) (0.14.0)\n",
      "Requirement already satisfied: jsonpointer>=1.9 in c:\\users\\wangs\\appdata\\roaming\\python\\python312\\site-packages (from jsonpatch<2.0,>=1.33->langchain-core<0.4.0,>=0.3.15->langchain_openai) (3.0.0)\n",
      "Requirement already satisfied: orjson<4.0.0,>=3.9.14 in c:\\users\\wangs\\appdata\\roaming\\python\\python312\\site-packages (from langsmith<0.2.0,>=0.1.125->langchain-core<0.4.0,>=0.3.15->langchain_openai) (3.10.11)\n",
      "Requirement already satisfied: requests-toolbelt<2.0.0,>=1.0.0 in c:\\users\\wangs\\appdata\\roaming\\python\\python312\\site-packages (from langsmith<0.2.0,>=0.1.125->langchain-core<0.4.0,>=0.3.15->langchain_openai) (1.0.0)\n",
      "Requirement already satisfied: annotated-types>=0.6.0 in c:\\users\\wangs\\appdata\\roaming\\python\\python312\\site-packages (from pydantic<3.0.0,>=2.7.4->langchain-core<0.4.0,>=0.3.15->langchain_openai) (0.7.0)\n",
      "Requirement already satisfied: pydantic-core==2.23.4 in c:\\users\\wangs\\appdata\\roaming\\python\\python312\\site-packages (from pydantic<3.0.0,>=2.7.4->langchain-core<0.4.0,>=0.3.15->langchain_openai) (2.23.4)\n",
      "Requirement already satisfied: charset-normalizer<4,>=2 in c:\\users\\wangs\\appdata\\roaming\\python\\python312\\site-packages (from requests>=2.26.0->tiktoken<1,>=0.7->langchain_openai) (3.3.2)\n",
      "Requirement already satisfied: urllib3<3,>=1.21.1 in c:\\users\\wangs\\appdata\\roaming\\python\\python312\\site-packages (from requests>=2.26.0->tiktoken<1,>=0.7->langchain_openai) (2.2.2)\n",
      "Requirement already satisfied: colorama in c:\\users\\wangs\\appdata\\roaming\\python\\python312\\site-packages (from tqdm>4->openai<2.0.0,>=1.52.0->langchain_openai) (0.4.6)\n"
     ]
    },
    {
     "name": "stderr",
     "output_type": "stream",
     "text": [
      "\n",
      "[notice] A new release of pip is available: 24.2 -> 24.3.1\n",
      "[notice] To update, run: python.exe -m pip install --upgrade pip\n"
     ]
    }
   ],
   "source": [
    "!pip install -qU pypdf langchain_community\n",
    "!pip install -qU langchain-openai\n",
    "!pip install langchain_openai"
   ]
  },
  {
   "cell_type": "markdown",
   "metadata": {},
   "source": [
    "Note: you may need to restart the kernel to use updated packages."
   ]
  },
  {
   "cell_type": "code",
   "execution_count": 50,
   "metadata": {},
   "outputs": [],
   "source": [
    "from langchain_community.document_loaders import PyPDFLoader\n",
    "\n",
    "# provide the path of the Trust Document PDF file\n",
    "file_path = r'C:\\Users\\wangs\\OneDrive\\Desktop\\TRUST_DOC.pdf'\n",
    "loader = PyPDFLoader(file_path)\n",
    "docs = loader.load()"
   ]
  },
  {
   "cell_type": "code",
   "execution_count": 57,
   "metadata": {},
   "outputs": [
    {
     "name": "stdout",
     "output_type": "stream",
     "text": [
      "Number of pages: 16 \n",
      "Number of words: 31651 \n",
      "Number of new lines: 482 \n",
      "Number of periods: 194\n"
     ]
    }
   ],
   "source": [
    "from pypdf import PdfReader\n",
    "pdfreader = PdfReader(r'C:\\Users\\wangs\\OneDrive\\Desktop\\TRUST_DOC.pdf')\n",
    "# read text from pdf\n",
    "raw_text = ''\n",
    "for i, page in enumerate(pdfreader.pages):\n",
    "    content = page.extract_text()\n",
    "    if content:\n",
    "        raw_text += content\n",
    "\n",
    "raw_text   \n",
    "\n",
    "num_of_pages = len(pdfreader.pages)\n",
    "num_of_words = len(raw_text)\n",
    "num_new_lines = raw_text.count(\"\\n\")\n",
    "period_counts = raw_text.count(\".\")\n",
    "print(\"Number of pages:\", num_of_pages, \"\\n\"\n",
    "      \"Number of words:\", num_of_words, \"\\n\"\n",
    "      \"Number of new lines:\", num_new_lines, \"\\n\"\n",
    "      \"Number of periods:\" ,period_counts)"
   ]
  },
  {
   "cell_type": "code",
   "execution_count": 41,
   "metadata": {},
   "outputs": [
    {
     "name": "stdout",
     "output_type": "stream",
     "text": [
      " \n",
      " \n",
      "8. ALIENATION.   No disposition of, or charge or encumbrance on, the income or \n",
      "principal of the trust or any part thereof by any beneficiary under this Declaration, by way of \n",
      "anticipation, shall be valid or in any way binding upon the Trustee, and no beneficiary shall have the \n",
      "right to assign, transfer, encumber or otherwise dispose of such income or principal or any part thereof \n",
      "until the same shall be paid or distributed to such beneficiary by the Trustee.  No income or principal \n",
      "or any part thereof shall in any way be liable to any claim of any creditor of any such beneficiary.  No \n",
      "court shall order payment of trust property pursuant to New York Estate Powers and Trust Law (EPTL) \n",
      "§7-1.6 or otherwise.  It is the intent of this Decl aration that only the Trustee shall determine when, and \n",
      "in what amounts principal or income shall be paid. \n",
      " \n",
      "9. CHANGES BY WILL. This trust may not be amended or revoked by the provisions of \n",
      "any will or codicil of Grantor pursuant to EPTL §7-1.17(b). \n",
      " \n",
      "10. LAWS OF NEW YORK TO CONTROL.  \n",
      " \n",
      "(A) The Grantor is currently a resident of  the State of New York, and all questions \n",
      "pertaining to the validity, construction, effect and administration of this Declaration shall be determined \n",
      "by and in accordance with the laws of the State of New York. \n",
      " \n",
      "(B) The situs of any trust created hereunder may be maintained in any \n",
      "jurisdiction, in the absolute discretion of the Trustee, and thereafter transferred at any time to any other \n",
      "jurisdiction selected by the Trustee.  Upon any such transfer of situs, the trust estate may thereafter, \n",
      "at the election of the Trustee of said trust, be administered exclusively under the laws of (and subject, \n",
      "as required, to the exclusive supervision of the courts of) the jurisdiction to which it has been \n",
      "transferred.  Accordingly, if the Trustee of any tr ust created hereunder elects to change the situs of \n",
      "any such trust, the Trustee shall hereby be relieved of any requirement of having to qualify in any other \n",
      "jurisdiction and of any requirement of having to account in any court of such other jurisdiction. \n",
      " \n",
      "11. MISCELLANEOUS  \n",
      " \n",
      "(A) Paragraph Headings.  The paragraph headings used are for convenience \n",
      "only and shall not be resorted to for interpretation of this trust.  Whenever the context so requires, the \n",
      "masculine shall include the feminine or neuter, and vice versa, and the singular shall include the plural \n",
      "and vice versa. \n",
      " \n",
      "(B) Validity of Provisions.  If any portion of this trust is held to be void or \n",
      "126\n",
      "{'source': 'C:\\\\Users\\\\wangs\\\\OneDrive\\\\Desktop\\\\TRUST_DOC.pdf', 'page': 1}\n"
     ]
    }
   ],
   "source": [
    "#Sample some content of the document\n",
    "print(docs[13].page_content)\n",
    "print(docs[1].metadata)"
   ]
  },
  {
   "cell_type": "markdown",
   "metadata": {},
   "source": [
    "### Select Model to Use"
   ]
  },
  {
   "cell_type": "code",
   "execution_count": 6,
   "metadata": {},
   "outputs": [
    {
     "name": "stdout",
     "output_type": "stream",
     "text": [
      "Please enter password in the prompt above\n"
     ]
    }
   ],
   "source": [
    "import getpass\n",
    "import os\n",
    "\n",
    "if any(['VSCODE' in x for x in os.environ.keys()]):\n",
    "       print('Please enter password in the prompt above')\n",
    "os.environ[\"OPENAI_API_KEY\"] = getpass.getpass()\n",
    "\n",
    "from langchain_openai import ChatOpenAI\n",
    "llm = ChatOpenAI(model=\"gpt-4o\")"
   ]
  },
  {
   "cell_type": "code",
   "execution_count": 43,
   "metadata": {},
   "outputs": [],
   "source": [
    "from langchain_core.vectorstores import InMemoryVectorStore\n",
    "from langchain_openai import OpenAIEmbeddings\n",
    "from langchain_text_splitters import RecursiveCharacterTextSplitter\n",
    "\n",
    "# We need to split the text using Character Text Split such that it should not increase token size\n",
    "text_splitter = RecursiveCharacterTextSplitter(chunk_size=1000, #need to encompass words so that it doesn't lose sentence completeness/contextualization\n",
    "                                               chunk_overlap=200, \n",
    "                                               length_function = len)\n",
    "splits = text_splitter.split_documents(docs)\n"
   ]
  },
  {
   "cell_type": "markdown",
   "metadata": {},
   "source": [
    "### Load the dataset into the vector store"
   ]
  },
  {
   "cell_type": "code",
   "execution_count": null,
   "metadata": {},
   "outputs": [],
   "source": [
    "vectorstore = InMemoryVectorStore.from_documents(\n",
    "    documents=splits, embedding=OpenAIEmbeddings()\n",
    ")\n",
    "retriever = vectorstore.as_retriever()"
   ]
  },
  {
   "cell_type": "markdown",
   "metadata": {},
   "source": [
    "### Run the QA cycle\n",
    "\n",
    "Simply run the cells and ask a question -- or `quit` to stop. (you can also stop execution with the \"▪\" button on the top toolbar)\n",
    "\n",
    "Here are some suggested questions:"
   ]
  },
  {
   "cell_type": "code",
   "execution_count": 45,
   "metadata": {},
   "outputs": [
    {
     "data": {
      "text/plain": [
       "{'input': 'I am a Trust Officer. John Client is no more. Donna Client has request $800,000 in order to purchase a new home. Should I approve this distribution? Can you read the document and help me make the decision according to the clauses of the Trust?',\n",
       " 'context': [Document(id='54330022-55aa-4b7b-a0fe-79eef9afe52f', metadata={'source': 'C:\\\\Users\\\\wangs\\\\OneDrive\\\\Desktop\\\\TRUST_DOC.pdf', 'page': 2}, page_content='DECLARATION OF TRUST 1\\nJOHN CLIENT TRUST 2 \\nTHIS DECLARATION, made the _______ day of November, 2015 by JOHN H. \\nCLIENT, of 123 Main St., Syracuse, NY 13202 (hereinafter referred to as \"Grantor\" and \"Trustee\"); \\nW I T N E S S E T H : \\n1. TRUST PROPERTY.   The Grantor has this day delivered the property described in\\nSchedule \"A\", attached hereto, to the Trustee and does hereby transfer ownership of such property.3\\nThe Trustee agrees to act as Trustee of such assets and to hold, administer and distribute the \\nproperty, together with all additions thereto and all reinvestments thereof, as the principal of a trust \\nestate for the benefit of Grantor in accordance with the terms and provision\\ns hereinafter set out. \\n1 Since the abolishment of the merger doctrine, an individual may create a trust with his \\nown assets and act as sole Trustee.  If the document establishing such an entity involves \\nonly one party, it would not be an agreement, but a declaration.  If any other party is'),\n",
       "  Document(id='9a123634-4b5a-476b-8b77-afc670cc8f8d', metadata={'source': 'C:\\\\Users\\\\wangs\\\\OneDrive\\\\Desktop\\\\TRUST_DOC.pdf', 'page': 2}, page_content='own assets and act as sole Trustee.  If the document establishing such an entity involves \\nonly one party, it would not be an agreement, but a declaration.  If any other party is \\nacting as Trustee other than the Grantor, then the trust would be created by agreement. \\n2 It is possible to structure a trust so that it will hold the property of both husband and \\nwife (joint trust).  Extreme care shall be taken to avoid numerous issues that can arise in a \\njoint trust such as determining which spouse contributed which property, how separate \\nproperty and/or joint property are distributed and how marital, estate tax exemption and \\nasset protection trusts are funded at death.  Joint trusts can also cause inadvertent tax \\nconsequences.  See TAM 9308002 regarding the loss of basis step-up in a joint trust. \\nFurther, significant complications can arise if the couple divorces. There are many traps \\nfor the unwary in a joint trust.  Practitioners should consider the creation of two (2)'),\n",
       "  Document(id='2138f06e-655c-46d8-be83-aef5a203a97b', metadata={'source': 'C:\\\\Users\\\\wangs\\\\OneDrive\\\\Desktop\\\\TRUST_DOC.pdf', 'page': 3}, page_content=\"Grantor or his attorney-in-fact may add property to the principal of this Trust at any \\ntime.  It is anticipated that upon the incapacity of the Grantor to handle his financial affairs, the \\nattorney-in-fact will transfer substantially all of the Grantor's remaining assets to this Trust. \\n \\n2. GRANTOR'S RIGHTS.   The Grantor expressly reserves the right at any time upon \\nwritten notice to the Trustee: \\n \\n(A) To withdraw all or any part of t he principal free and discharged of the terms \\nand conditions of this Declaration and of the Trust except as to terminating commissions if due; such \\nright of withdrawal being personal to Grantor and not exercisable by any court, attorney-in-fact, \\nguardian, conservator or committee; and 4  \\n \\n(B) To revoke or amend this Declaration ,5 and to alter or terminate the Trust \\ncreated; provided however that the duties, responsibilities and rate of compensation of a Trustee shall\"),\n",
       "  Document(id='8ad4d761-2ef1-49f7-b30a-19c8e0f52cc1', metadata={'source': 'C:\\\\Users\\\\wangs\\\\OneDrive\\\\Desktop\\\\TRUST_DOC.pdf', 'page': 3}, page_content=\"(B) To revoke or amend this Declaration ,5 and to alter or terminate the Trust \\ncreated; provided however that the duties, responsibilities and rate of compensation of a Trustee shall \\nnot be altered or modified by such amendment without the written consent of the Trustee.  A Trustee \\nmay be replaced, however, by an amendment, without cause.  At Grantor's death, this trust shall \\nbecome irrevocable. \\n \\n3. DISPOSITION.  (A)  The Trustee may accumulate, or pay or apply the income of the \\ntrust to or for the use of Grantor during his life, or to such persons and in such proportions as the \\nGrantor may from time to time direct.  In addition, the Trustee may at any time, in the exercise of \\nabsolute discretion, pay from the principal of the trust such amounts as the Trustee may deem \\nadvisable to provide adequately for the support, maintenance, education and comfort of the Grantor.6\")],\n",
       " 'answer': \"Based on the provided clauses of the John Client Trust, upon the death of the Grantor (John Client), the trust becomes irrevocable. The document states that the Trustee may accumulate, or pay or apply the income of the trust to or for the use of the Grantor during his life, or to such persons and in such proportions as the Grantor may from time to time direct. Also, the Trustee has the discretion to pay from the principal of the trust for the support, maintenance, education, and comfort of the Grantor.\\n\\nSince the trust is now irrevocable due to John Client's death, the terms for distribution would depend on any specific instructions or beneficiaries designated in the trust document for after the Grantor's death. The information provided does not include details about the beneficiaries or instructions for distributions after John Client's death, so I cannot determine whether Donna Client's request aligns with the terms of the trust.\\n\\nTo make an informed decision, you would need to refer to any additional sections of the trust document that specify the beneficiaries and the terms for distributions after the Grantor's death. If such sections are not available or if the document permits it, you may also need to consult legal counsel to ensure proper adherence to the trust's stipulations.\"}"
      ]
     },
     "execution_count": 45,
     "metadata": {},
     "output_type": "execute_result"
    }
   ],
   "source": [
    "from langchain.chains import create_retrieval_chain\n",
    "from langchain.chains.combine_documents import create_stuff_documents_chain\n",
    "from langchain_core.prompts import ChatPromptTemplate\n",
    "\n",
    "system_prompt = (\n",
    "    \"You are an assistant for question-answering tasks. \"\n",
    "    \"Use the following pieces of retrieved context to answer \"\n",
    "    \"the question. If you don't know the answer, say that you \"\n",
    "    \"don't know. \"\n",
    "    \"\\n\\n\"\n",
    "    \"{context}\"\n",
    ")\n",
    "\n",
    "prompt = ChatPromptTemplate.from_messages(\n",
    "    [\n",
    "        (\"system\", system_prompt),\n",
    "        (\"human\", \"{input}\"),\n",
    "    ]\n",
    ")\n",
    "\n",
    "question_answer_chain = create_stuff_documents_chain(llm, prompt)\n",
    "rag_chain = create_retrieval_chain(retriever, question_answer_chain)\n",
    "\n",
    "results = rag_chain.invoke({\"input\": \"I am a Trust Officer. John Client is no more. Donna Client has requested $800,000 in order to purchase a new home. Should I approve this distribution? Can you read the document and help me make the decision according to the clauses of the Trust?\"})\n",
    "\n",
    "results"
   ]
  },
  {
   "cell_type": "markdown",
   "metadata": {},
   "source": [
    "## Similarity Search With Score"
   ]
  },
  {
   "cell_type": "markdown",
   "metadata": {},
   "source": [
    "While-loop for prompting more questions. \n",
    "Example questions: \n",
    "''' \n",
    "Given the situation that a client has recently set up a revocable living trust and wants to ensure that the trust will adequately provide\n",
    "for thier minor grandchildren if they pass away unexpectedly. They are particularly concerned about how the funds will be managed \n",
    "until their grandchildren reach adulthood. \n",
    "\n",
    "The trust officer's question is: I have a client, John H. Client, who is concerned about the provisions in his trust for his minor \n",
    "nieces and nephews. He wants to ensure that if he passes away, the trust will manage the funds responsibly for their benefit until \n",
    "they reach adult. Specifically, he is asking who will be responsible for managing the funds, what the funds can be used for, and when \n",
    "the minors will have access to their inheritance. Can you provide details on how the trust addresses these concerns? \n",
    "'''\n",
    "\n",
    "'''\n",
    "A client is concerned about how their revocable trust will handle distributions to beneficiaries if the primary beneficiary, who is\n",
    "currently healthy, later becomes incapacitated. Can you provide details on how the trust addresses these concerns?\n",
    "'''"
   ]
  },
  {
   "cell_type": "code",
   "execution_count": 60,
   "metadata": {},
   "outputs": [
    {
     "name": "stdout",
     "output_type": "stream",
     "text": [
      "\n",
      "QUESTION: \"I am a Trust Officer. John Client is no more. Donna Client has request $800,000 in order to purchase a new home. Should I approve this distribution? Can you read the document and help me make the decision according to the clauses of the Trust?\"\n",
      "ANSWER: \"{'input': 'I am a Trust Officer. John Client is no more. Donna Client has request $800,000 in order to purchase a new home. Should I approve this distribution? Can you read the document and help me make the decision according to the clauses of the Trust?', 'context': [Document(id='54330022-55aa-4b7b-a0fe-79eef9afe52f', metadata={'source': 'C:\\\\Users\\\\wangs\\\\OneDrive\\\\Desktop\\\\TRUST_DOC.pdf', 'page': 2}, page_content='DECLARATION OF TRUST 1\\nJOHN CLIENT TRUST 2 \\nTHIS DECLARATION, made the _______ day of November, 2015 by JOHN H. \\nCLIENT, of 123 Main St., Syracuse, NY 13202 (hereinafter referred to as \"Grantor\" and \"Trustee\"); \\nW I T N E S S E T H : \\n1. TRUST PROPERTY.   The Grantor has this day delivered the property described in\\nSchedule \"A\", attached hereto, to the Trustee and does hereby transfer ownership of such property.3\\nThe Trustee agrees to act as Trustee of such assets and to hold, administer and distribute the \\nproperty, together with all additions thereto and all reinvestments thereof, as the principal of a trust \\nestate for the benefit of Grantor in accordance with the terms and provision\\ns hereinafter set out. \\n1 Since the abolishment of the merger doctrine, an individual may create a trust with his \\nown assets and act as sole Trustee.  If the document establishing such an entity involves \\nonly one party, it would not be an agreement, but a declaration.  If any other party is'), Document(id='9a123634-4b5a-476b-8b77-afc670cc8f8d', metadata={'source': 'C:\\\\Users\\\\wangs\\\\OneDrive\\\\Desktop\\\\TRUST_DOC.pdf', 'page': 2}, page_content='own assets and act as sole Trustee.  If the document establishing such an entity involves \\nonly one party, it would not be an agreement, but a declaration.  If any other party is \\nacting as Trustee other than the Grantor, then the trust would be created by agreement. \\n2 It is possible to structure a trust so that it will hold the property of both husband and \\nwife (joint trust).  Extreme care shall be taken to avoid numerous issues that can arise in a \\njoint trust such as determining which spouse contributed which property, how separate \\nproperty and/or joint property are distributed and how marital, estate tax exemption and \\nasset protection trusts are funded at death.  Joint trusts can also cause inadvertent tax \\nconsequences.  See TAM 9308002 regarding the loss of basis step-up in a joint trust. \\nFurther, significant complications can arise if the couple divorces. There are many traps \\nfor the unwary in a joint trust.  Practitioners should consider the creation of two (2)'), Document(id='2138f06e-655c-46d8-be83-aef5a203a97b', metadata={'source': 'C:\\\\Users\\\\wangs\\\\OneDrive\\\\Desktop\\\\TRUST_DOC.pdf', 'page': 3}, page_content=\"Grantor or his attorney-in-fact may add property to the principal of this Trust at any \\ntime.  It is anticipated that upon the incapacity of the Grantor to handle his financial affairs, the \\nattorney-in-fact will transfer substantially all of the Grantor's remaining assets to this Trust. \\n \\n2. GRANTOR'S RIGHTS.   The Grantor expressly reserves the right at any time upon \\nwritten notice to the Trustee: \\n \\n(A) To withdraw all or any part of t he principal free and discharged of the terms \\nand conditions of this Declaration and of the Trust except as to terminating commissions if due; such \\nright of withdrawal being personal to Grantor and not exercisable by any court, attorney-in-fact, \\nguardian, conservator or committee; and 4  \\n \\n(B) To revoke or amend this Declaration ,5 and to alter or terminate the Trust \\ncreated; provided however that the duties, responsibilities and rate of compensation of a Trustee shall\"), Document(id='8ad4d761-2ef1-49f7-b30a-19c8e0f52cc1', metadata={'source': 'C:\\\\Users\\\\wangs\\\\OneDrive\\\\Desktop\\\\TRUST_DOC.pdf', 'page': 3}, page_content=\"(B) To revoke or amend this Declaration ,5 and to alter or terminate the Trust \\ncreated; provided however that the duties, responsibilities and rate of compensation of a Trustee shall \\nnot be altered or modified by such amendment without the written consent of the Trustee.  A Trustee \\nmay be replaced, however, by an amendment, without cause.  At Grantor's death, this trust shall \\nbecome irrevocable. \\n \\n3. DISPOSITION.  (A)  The Trustee may accumulate, or pay or apply the income of the \\ntrust to or for the use of Grantor during his life, or to such persons and in such proportions as the \\nGrantor may from time to time direct.  In addition, the Trustee may at any time, in the exercise of \\nabsolute discretion, pay from the principal of the trust such amounts as the Trustee may deem \\nadvisable to provide adequately for the support, maintenance, education and comfort of the Grantor.6\")], 'answer': \"According to the Declaration of Trust document for the John Client Trust, the trust becomes irrevocable upon the death of the Grantor, which is John Client in this case. Therefore, you would need to follow the terms outlined for the disposition of the trust after his death.\\n\\nThe document specifies that the Trustee may pay or apply the income of the trust to or for the use of the Grantor during his life. However, since John Client has passed away, the trust's provisions regarding distributions to him are no longer applicable.\\n\\nThere is no specific information provided in the document excerpts about distributions to beneficiaries other than the Grantor, nor does it mention how requests such as Donna Client's should be handled after the Grantor's death. As a Trust Officer, you would need to refer to the complete trust document to understand the provisions for distributions after John Client's death. \\n\\nIf the document specifies beneficiaries and their entitlements, you would need to ensure any distribution aligns with those instructions. Without further details on the trust's provisions after the Grantor's death, I cannot definitively advise on approving or denying the distribution request for Donna Client.\"}\"\n",
      "\n",
      "FIRST DOCUMENTS BY RELEVANCE:\n",
      "    [0.8276] \"DECLARATION OF TRUST 1\n",
      "JOHN CLIENT TRUST 2 \n",
      "THIS DECLARATION, made the _______ day of November, 2015 ...\"\n",
      "    [0.8121] \"own assets and act as sole Trustee.  If the document establishing such an entity involves \n",
      "only one  ...\"\n",
      "    [0.8081] \"Grantor or his attorney-in-fact may add property to the principal of this Trust at any \n",
      "time.  It is ...\"\n"
     ]
    }
   ],
   "source": [
    "first_question = True\n",
    "while True:\n",
    "    if first_question:\n",
    "        query_text = input(\"\\nEnter your question (or type 'quit' to exit): \").strip()\n",
    "    else:\n",
    "        query_text = input(\"\\nWhat's your next question (or type 'quit' to exit): \").strip()\n",
    "\n",
    "    if query_text.lower() == \"quit\":\n",
    "        break\n",
    "\n",
    "    if query_text == \"\":\n",
    "        continue\n",
    "\n",
    "    first_question = False\n",
    "\n",
    "    print(\"\\nQUESTION: \\\"%s\\\"\" % query_text)\n",
    "    answer = rag_chain.invoke({\"input\": query_text})\n",
    "    print(\"ANSWER: \\\"%s\\\"\\n\" % answer)\n",
    "\n",
    "    print(\"FIRST DOCUMENTS BY RELEVANCE:\")\n",
    "    for doc, score in vectorstore.similarity_search_with_score(query_text, k=3):\n",
    "        print(\"    [%0.4f] \\\"%s ...\\\"\" % (score, doc.page_content[:100]))\n"
   ]
  },
  {
   "cell_type": "code",
   "execution_count": 61,
   "metadata": {},
   "outputs": [
    {
     "data": {
      "text/plain": [
       "{'input': 'I am a Trust Officer. John Client is no more. Donna Client has request $800,000 in order to purchase a new home. Should I approve this distribution? Can you read the document and help me make the decision according to the clauses of the Trust?',\n",
       " 'context': [Document(id='54330022-55aa-4b7b-a0fe-79eef9afe52f', metadata={'source': 'C:\\\\Users\\\\wangs\\\\OneDrive\\\\Desktop\\\\TRUST_DOC.pdf', 'page': 2}, page_content='DECLARATION OF TRUST 1\\nJOHN CLIENT TRUST 2 \\nTHIS DECLARATION, made the _______ day of November, 2015 by JOHN H. \\nCLIENT, of 123 Main St., Syracuse, NY 13202 (hereinafter referred to as \"Grantor\" and \"Trustee\"); \\nW I T N E S S E T H : \\n1. TRUST PROPERTY.   The Grantor has this day delivered the property described in\\nSchedule \"A\", attached hereto, to the Trustee and does hereby transfer ownership of such property.3\\nThe Trustee agrees to act as Trustee of such assets and to hold, administer and distribute the \\nproperty, together with all additions thereto and all reinvestments thereof, as the principal of a trust \\nestate for the benefit of Grantor in accordance with the terms and provision\\ns hereinafter set out. \\n1 Since the abolishment of the merger doctrine, an individual may create a trust with his \\nown assets and act as sole Trustee.  If the document establishing such an entity involves \\nonly one party, it would not be an agreement, but a declaration.  If any other party is'),\n",
       "  Document(id='9a123634-4b5a-476b-8b77-afc670cc8f8d', metadata={'source': 'C:\\\\Users\\\\wangs\\\\OneDrive\\\\Desktop\\\\TRUST_DOC.pdf', 'page': 2}, page_content='own assets and act as sole Trustee.  If the document establishing such an entity involves \\nonly one party, it would not be an agreement, but a declaration.  If any other party is \\nacting as Trustee other than the Grantor, then the trust would be created by agreement. \\n2 It is possible to structure a trust so that it will hold the property of both husband and \\nwife (joint trust).  Extreme care shall be taken to avoid numerous issues that can arise in a \\njoint trust such as determining which spouse contributed which property, how separate \\nproperty and/or joint property are distributed and how marital, estate tax exemption and \\nasset protection trusts are funded at death.  Joint trusts can also cause inadvertent tax \\nconsequences.  See TAM 9308002 regarding the loss of basis step-up in a joint trust. \\nFurther, significant complications can arise if the couple divorces. There are many traps \\nfor the unwary in a joint trust.  Practitioners should consider the creation of two (2)'),\n",
       "  Document(id='2138f06e-655c-46d8-be83-aef5a203a97b', metadata={'source': 'C:\\\\Users\\\\wangs\\\\OneDrive\\\\Desktop\\\\TRUST_DOC.pdf', 'page': 3}, page_content=\"Grantor or his attorney-in-fact may add property to the principal of this Trust at any \\ntime.  It is anticipated that upon the incapacity of the Grantor to handle his financial affairs, the \\nattorney-in-fact will transfer substantially all of the Grantor's remaining assets to this Trust. \\n \\n2. GRANTOR'S RIGHTS.   The Grantor expressly reserves the right at any time upon \\nwritten notice to the Trustee: \\n \\n(A) To withdraw all or any part of t he principal free and discharged of the terms \\nand conditions of this Declaration and of the Trust except as to terminating commissions if due; such \\nright of withdrawal being personal to Grantor and not exercisable by any court, attorney-in-fact, \\nguardian, conservator or committee; and 4  \\n \\n(B) To revoke or amend this Declaration ,5 and to alter or terminate the Trust \\ncreated; provided however that the duties, responsibilities and rate of compensation of a Trustee shall\"),\n",
       "  Document(id='8ad4d761-2ef1-49f7-b30a-19c8e0f52cc1', metadata={'source': 'C:\\\\Users\\\\wangs\\\\OneDrive\\\\Desktop\\\\TRUST_DOC.pdf', 'page': 3}, page_content=\"(B) To revoke or amend this Declaration ,5 and to alter or terminate the Trust \\ncreated; provided however that the duties, responsibilities and rate of compensation of a Trustee shall \\nnot be altered or modified by such amendment without the written consent of the Trustee.  A Trustee \\nmay be replaced, however, by an amendment, without cause.  At Grantor's death, this trust shall \\nbecome irrevocable. \\n \\n3. DISPOSITION.  (A)  The Trustee may accumulate, or pay or apply the income of the \\ntrust to or for the use of Grantor during his life, or to such persons and in such proportions as the \\nGrantor may from time to time direct.  In addition, the Trustee may at any time, in the exercise of \\nabsolute discretion, pay from the principal of the trust such amounts as the Trustee may deem \\nadvisable to provide adequately for the support, maintenance, education and comfort of the Grantor.6\")],\n",
       " 'answer': \"According to the Declaration of Trust document for the John Client Trust, the trust becomes irrevocable upon the death of the Grantor, which is John Client in this case. Therefore, you would need to follow the terms outlined for the disposition of the trust after his death.\\n\\nThe document specifies that the Trustee may pay or apply the income of the trust to or for the use of the Grantor during his life. However, since John Client has passed away, the trust's provisions regarding distributions to him are no longer applicable.\\n\\nThere is no specific information provided in the document excerpts about distributions to beneficiaries other than the Grantor, nor does it mention how requests such as Donna Client's should be handled after the Grantor's death. As a Trust Officer, you would need to refer to the complete trust document to understand the provisions for distributions after John Client's death. \\n\\nIf the document specifies beneficiaries and their entitlements, you would need to ensure any distribution aligns with those instructions. Without further details on the trust's provisions after the Grantor's death, I cannot definitively advise on approving or denying the distribution request for Donna Client.\"}"
      ]
     },
     "execution_count": 61,
     "metadata": {},
     "output_type": "execute_result"
    }
   ],
   "source": [
    "answer"
   ]
  },
  {
   "cell_type": "code",
   "execution_count": 58,
   "metadata": {},
   "outputs": [
    {
     "name": "stdout",
     "output_type": "stream",
     "text": [
      "DECLARATION OF TRUST 1\n",
      "JOHN CLIENT TRUST 2 \n",
      "THIS DECLARATION, made the _______ day of November, 2015 by JOHN H. \n",
      "CLIENT, of 123 Main St., Syracuse, NY 13202 (hereinafter referred to as \"Grantor\" and \"Trustee\"); \n",
      "W I T N E S S E T H : \n",
      "1. TRUST PROPERTY.   The Grantor has this day delivered the property described in\n",
      "Schedule \"A\", attached hereto, to the Trustee and does hereby transfer ownership of such property.3\n",
      "The Trustee agrees to act as Trustee of such assets and to hold, administer and distribute the \n",
      "property, together with all additions thereto and all reinvestments thereof, as the principal of a trust \n",
      "estate for the benefit of Grantor in accordance with the terms and provision\n",
      "s hereinafter set out. \n",
      "1 Since the abolishment of the merger doctrine, an individual may create a trust with his \n",
      "own assets and act as sole Trustee.  If the document establishing such an entity involves \n",
      "only one party, it would not be an agreement, but a declaration.  If any other party is\n",
      "{'source': 'C:\\\\Users\\\\wangs\\\\OneDrive\\\\Desktop\\\\TRUST_DOC.pdf', 'page': 2}\n"
     ]
    }
   ],
   "source": [
    "print(results[\"context\"][0].page_content)\n",
    "print(results[\"context\"][0].metadata)"
   ]
  }
 ],
 "metadata": {
  "kernelspec": {
   "display_name": "Python 3",
   "language": "python",
   "name": "python3"
  },
  "language_info": {
   "codemirror_mode": {
    "name": "ipython",
    "version": 3
   },
   "file_extension": ".py",
   "mimetype": "text/x-python",
   "name": "python",
   "nbconvert_exporter": "python",
   "pygments_lexer": "ipython3",
   "version": "3.12.5"
  }
 },
 "nbformat": 4,
 "nbformat_minor": 2
}
